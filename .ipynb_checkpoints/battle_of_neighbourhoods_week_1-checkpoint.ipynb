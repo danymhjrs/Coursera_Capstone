{
 "cells": [
  {
   "cell_type": "markdown",
   "metadata": {},
   "source": [
    "# Battle of the Neighbourhoods (Week 1)\n",
    "### Applied Data Science Capstone (IBM/Coursera)\n",
    "### Author: Dany Muhajir Sjafiie"
   ]
  },
  {
   "cell_type": "markdown",
   "metadata": {},
   "source": [
    "## Table of Contents:\n",
    "* [Introduction/Business Problem](#introduction)\n",
    "* [Data](#data)"
   ]
  },
  {
   "cell_type": "markdown",
   "metadata": {},
   "source": [
    "## Introduction/Business Problem <a name=\"introduction\"></a>"
   ]
  },
  {
   "cell_type": "markdown",
   "metadata": {},
   "source": [
    "The aim of this project to find the most suitable urban community to open a new cafe or coffee shop. This report is specific to stakeholders who are interested in opening a new coffee shop in **South Jakarta**.\n",
    "\n",
    "For this project we will cluster the urban communities in order to select the right market, particularly **areas with offices and universities**. We are also interested in urban communities with **minimum or no cafes in the area**.\n",
    "\n",
    "Data science tools previously learned within the series of courses will be used in order to select the most promising urban community to open a new coffee shop, based on the criterias mentioned above. "
   ]
  },
  {
   "cell_type": "markdown",
   "metadata": {},
   "source": [
    "## Data <a name=\"data\"></a>"
   ]
  },
  {
   "cell_type": "markdown",
   "metadata": {},
   "source": [
    "Based on the definition of the problem, the following factors will be taken into consideration:\n",
    "* **urban communities with high density of offices and/or universities**\n",
    "* **urban communities with no or minimum cafes** \n",
    "\n",
    "In order to solve this problem, the following data source will be used:\n",
    "* list of urban communities in South Jakarta will be obtained from **http://gis.bpbd.jakarta.go.id/**\n",
    "* list of postcodes of urban communities in South Jakarta will be obtained from **https://www.kotajakarta.id/kode-pos-di-kota-jakarta-selatan/**\n",
    "* geographical data of required locations will be obtained using **ArcGIS API reverse geocoding**\n",
    "* required venues for the analysis, such as universities, offices, cafes, will be obtained using **Foursquare API**\n",
    "* geojson of South Jakarta and its urban communities will be obtained from **http://gis.bpbd.jakarta.go.id/geoserver/wfs?srsName=EPSG%3A4326&typename=geonode%3Adki_kelurahan&outputFormat=json&version=1.0.0&service=WFS&request=GetFeature**\n"
   ]
  }
 ],
 "metadata": {
  "kernelspec": {
   "display_name": "Python 3",
   "language": "python",
   "name": "python3"
  },
  "language_info": {
   "codemirror_mode": {
    "name": "ipython",
    "version": 3
   },
   "file_extension": ".py",
   "mimetype": "text/x-python",
   "name": "python",
   "nbconvert_exporter": "python",
   "pygments_lexer": "ipython3",
   "version": "3.8.6"
  }
 },
 "nbformat": 4,
 "nbformat_minor": 4
}
